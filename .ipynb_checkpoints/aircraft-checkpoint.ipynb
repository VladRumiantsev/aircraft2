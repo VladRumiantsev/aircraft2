{
 "cells": [
  {
   "cell_type": "code",
   "execution_count": null,
   "id": "d390fbfe-47e7-4d72-ac71-f94155d09d0b",
   "metadata": {},
   "outputs": [],
   "source": [
    "%%sql $CONNECT_DATA\n",
    "SELECT passenger_name,\n",
    "       (SELECT departure_airport FROM Ticket_flights WHERE flight_id = \n",
    "           (SELECT flight_id FROM Tickets WHERE ticket_no = '0005432312164')) AS departure_airport,\n",
    "       (SELECT arrival_airport FROM Ticket_flights WHERE flight_id = \n",
    "           (SELECT flight_id FROM Tickets WHERE ticket_no = '0005432312164')) AS arrival_airport\n",
    "FROM Tickets\n",
    "WHERE ticket_no = '0005432312164';"
   ]
  }
 ],
 "metadata": {
  "kernelspec": {
   "display_name": "Python 3 (ipykernel)",
   "language": "python",
   "name": "python3"
  },
  "language_info": {
   "codemirror_mode": {
    "name": "ipython",
    "version": 3
   },
   "file_extension": ".py",
   "mimetype": "text/x-python",
   "name": "python",
   "nbconvert_exporter": "python",
   "pygments_lexer": "ipython3",
   "version": "3.10.9"
  }
 },
 "nbformat": 4,
 "nbformat_minor": 5
}

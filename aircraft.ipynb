{
 "cells": [
  {
   "cell_type": "code",
   "execution_count": 1,
   "id": "d390fbfe-47e7-4d72-ac71-f94155d09d0b",
   "metadata": {},
   "outputs": [
    {
     "name": "stderr",
     "output_type": "stream",
     "text": [
      "UsageError: Cell magic `%%sql` not found.\n"
     ]
    }
   ],
   "source": [
    "%%sql $CONNECT_DATA\n",
    "SELECT passenger_name,\n",
    "       (SELECT departure_airport FROM Ticket_flights WHERE flight_id = \n",
    "           (SELECT flight_id FROM Tickets WHERE ticket_no = '0005432312164')) AS departure_airport,\n",
    "       (SELECT arrival_airport FROM Ticket_flights WHERE flight_id = \n",
    "           (SELECT flight_id FROM Tickets WHERE ticket_no = '0005432312164')) AS arrival_airport\n",
    "FROM Tickets\n",
    "WHERE ticket_no = '0005432312164';"
   ]
  },
  {
   "cell_type": "code",
   "execution_count": null,
   "id": "4139a5b9-0111-4385-8322-fe3a1ae6ecea",
   "metadata": {},
   "outputs": [],
   "source": [
    "%%sql $CONNECT_DATA\n",
    "SELECT passenger_name, departure_airport, arrival_airport \n",
    "FROM Tickets_flat \n",
    "WHERE ticket_no = '0005432312164';"
   ]
  },
  {
   "cell_type": "code",
   "execution_count": null,
   "id": "95eae660-8d93-43aa-8f9e-2f41b440b4b7",
   "metadata": {},
   "outputs": [],
   "source": [
    "%%sql $CONNECT_DATA\n",
    "SELECT passenger_name, \n",
    "       Ticket_flights.departure_airport, \n",
    "       Ticket_flights.arrival_airport\n",
    "FROM Tickets \n",
    "JOIN Ticket_flights ON Tickets.flight_id = Ticket_flights.flight_id\n",
    "WHERE Tickets.ticket_no = '0005432312164';"
   ]
  },
  {
   "cell_type": "code",
   "execution_count": null,
   "id": "a77be57a-b38a-47b7-97c1-386848fba340",
   "metadata": {},
   "outputs": [],
   "source": [
    "%%sql $CONNECT_DATA\n",
    "SELECT Departure_Cities.city_name AS departure_city, \n",
    "       Arrival_Cities.city_name AS arrival_city\n",
    "FROM Flights\n",
    "JOIN Ticket_flights ON Flights.flight_id = Ticket_flights.flight_id\n",
    "JOIN Tickets ON Ticket_flights.ticket_no = Tickets.ticket_no\n",
    "JOIN Airports AS Departure_Airports ON Flights.departure_airport = Departure_Airports.airport_code\n",
    "JOIN Cities AS Departure_Cities ON Departure_Airports.city_id = Departure_Cities.city_id\n",
    "JOIN Airports AS Arrival_Airports ON Flights.arrival_airport = Arrival_Airports.airport_code\n",
    "JOIN Cities AS Arrival_Cities ON Arrival_Airports.city_id = Arrival_Cities.city_id\n",
    "WHERE Tickets.passenger_name = 'ELLA DMITRIEVA';"
   ]
  },
  {
   "cell_type": "code",
   "execution_count": null,
   "id": "1138c44e-351e-4f35-90d9-68566d086c67",
   "metadata": {},
   "outputs": [],
   "source": [
    "%%sql $CONNECT_DATA\n",
    "SELECT aircraft_model, \n",
    "       SUM(total_number_of_seats) AS total_seats\n",
    "FROM Aircrafts\n",
    "GROUP BY aircraft_model\n",
    "ORDER BY total_seats;"
   ]
  }
 ],
 "metadata": {
  "kernelspec": {
   "display_name": "Python 3 (ipykernel)",
   "language": "python",
   "name": "python3"
  },
  "language_info": {
   "codemirror_mode": {
    "name": "ipython",
    "version": 3
   },
   "file_extension": ".py",
   "mimetype": "text/x-python",
   "name": "python",
   "nbconvert_exporter": "python",
   "pygments_lexer": "ipython3",
   "version": "3.10.9"
  }
 },
 "nbformat": 4,
 "nbformat_minor": 5
}
